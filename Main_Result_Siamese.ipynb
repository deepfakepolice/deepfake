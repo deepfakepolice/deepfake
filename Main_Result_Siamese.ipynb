{
 "cells": [
  {
   "cell_type": "code",
   "execution_count": 1,
   "metadata": {},
   "outputs": [
    {
     "name": "stderr",
     "output_type": "stream",
     "text": [
      "/home/skkulab/anaconda3/lib/python3.6/site-packages/h5py/__init__.py:36: FutureWarning: Conversion of the second argument of issubdtype from `float` to `np.floating` is deprecated. In future, it will be treated as `np.float64 == np.dtype(float).type`.\n",
      "  from ._conv import register_converters as _register_converters\n",
      "Using TensorFlow backend.\n"
     ]
    }
   ],
   "source": [
    "import numpy as np\n",
    "import pandas as pd\n",
    "import os\n",
    "import tensorflow as tf\n",
    "from keras import backend as K\n",
    "os.environ[\"CUDA_VISIBLE_DEVICES\"] = '1'\n",
    "config = tf.ConfigProto()\n",
    "config.gpu_options.allow_growth = True\n",
    "sess = tf.Session(config=config)\n",
    "K.set_session(sess)\n",
    "\n",
    "from keras.applications import VGG16\n",
    "from keras.layers import Input, Dense, Flatten, GlobalAveragePooling2D, Activation, Conv2D, MaxPooling2D, BatchNormalization, Lambda\n",
    "from keras.models import Model, load_model, model_from_json\n",
    "from keras.preprocessing.image import ImageDataGenerator\n",
    "from keras.optimizers import Adam, SGD\n",
    "from keras.callbacks import EarlyStopping, ReduceLROnPlateau\n",
    "from sklearn import metrics\n",
    "from sklearn.metrics import roc_curve, roc_auc_score, confusion_matrix\n",
    "import matplotlib.pyplot as plt\n",
    "from scipy.optimize import brentq\n",
    "from scipy.interpolate import interp1d\n",
    "import glob\n",
    "from PIL import Image\n",
    "from tqdm import tqdm, trange"
   ]
  },
  {
   "cell_type": "code",
   "execution_count": 2,
   "metadata": {
    "collapsed": true
   },
   "outputs": [],
   "source": [
    "nb_classes = 1  # number of classes\n",
    "img_width, img_height = 224, 224  # change based on the shape/structure of your images\n",
    "batch_size = 32  # try 4, 8, 16, 32, 64, 128, 256 dependent on CPU/GPU memory capacity (powers of 2 values).\n",
    "nb_epoch = 50  # number of iteration the algorithm gets trained.\n",
    "learn_rate = 1e-5  # sgd learning rate"
   ]
  },
  {
   "cell_type": "markdown",
   "metadata": {},
   "source": [
    "## DIR ##"
   ]
  },
  {
   "cell_type": "code",
   "execution_count": 45,
   "metadata": {
    "collapsed": true
   },
   "outputs": [],
   "source": [
    "train_dir = '/home/skkulab/ICCV/Dataset/preprocessed_dataset/train'\n",
    "validation_dir = '/home/skkulab/ICCV/Dataset/preprocessed_dataset/validation'\n",
    "test50_dir = '/home/skkulab/ICCV/Dataset/preprocessed_dataset/test50'\n",
    "test75_dir = '/home/skkulab/ICCV/Dataset/preprocessed_dataset/test75'\n",
    "test95_dir = '/home/skkulab/ICCV/Dataset/preprocessed_dataset/test95'\n",
    "test99_dir = '/home/skkulab/ICCV/Dataset/preprocessed_dataset/test99'"
   ]
  },
  {
   "cell_type": "markdown",
   "metadata": {},
   "source": [
    "# AlexNet"
   ]
  },
  {
   "cell_type": "code",
   "execution_count": 4,
   "metadata": {},
   "outputs": [
    {
     "name": "stdout",
     "output_type": "stream",
     "text": [
      "WARNING:tensorflow:From /home/skkulab/anaconda3/lib/python3.6/site-packages/tensorflow/python/framework/op_def_library.py:263: colocate_with (from tensorflow.python.framework.ops) is deprecated and will be removed in a future version.\n",
      "Instructions for updating:\n",
      "Colocations handled automatically by placer.\n",
      "_________________________________________________________________\n",
      "Layer (type)                 Output Shape              Param #   \n",
      "=================================================================\n",
      "input_1 (InputLayer)         (None, 224, 224, 3)       0         \n",
      "_________________________________________________________________\n",
      "conv2d_1 (Conv2D)            (None, 56, 56, 96)        34848     \n",
      "_________________________________________________________________\n",
      "activation_1 (Activation)    (None, 56, 56, 96)        0         \n",
      "_________________________________________________________________\n",
      "conv2d_2 (Conv2D)            (None, 56, 56, 256)       614400    \n",
      "_________________________________________________________________\n",
      "activation_2 (Activation)    (None, 56, 56, 256)       0         \n",
      "_________________________________________________________________\n",
      "max_pooling2d_1 (MaxPooling2 (None, 27, 27, 256)       0         \n",
      "_________________________________________________________________\n",
      "conv2d_3 (Conv2D)            (None, 27, 27, 384)       884736    \n",
      "_________________________________________________________________\n",
      "activation_3 (Activation)    (None, 27, 27, 384)       0         \n",
      "_________________________________________________________________\n",
      "max_pooling2d_2 (MaxPooling2 (None, 13, 13, 384)       0         \n",
      "_________________________________________________________________\n",
      "conv2d_4 (Conv2D)            (None, 13, 13, 384)       1327104   \n",
      "_________________________________________________________________\n",
      "activation_4 (Activation)    (None, 13, 13, 384)       0         \n",
      "_________________________________________________________________\n",
      "conv2d_5 (Conv2D)            (None, 13, 13, 256)       884736    \n",
      "_________________________________________________________________\n",
      "activation_5 (Activation)    (None, 13, 13, 256)       0         \n",
      "_________________________________________________________________\n",
      "max_pooling2d_3 (MaxPooling2 (None, 6, 6, 256)         0         \n",
      "_________________________________________________________________\n",
      "global_average_pooling2d_1 ( (None, 256)               0         \n",
      "_________________________________________________________________\n",
      "dense_1 (Dense)              (None, 4096)              1052672   \n",
      "_________________________________________________________________\n",
      "activation_6 (Activation)    (None, 4096)              0         \n",
      "_________________________________________________________________\n",
      "dense_2 (Dense)              (None, 1)                 4097      \n",
      "_________________________________________________________________\n",
      "activation_7 (Activation)    (None, 1)                 0         \n",
      "=================================================================\n",
      "Total params: 4,802,593\n",
      "Trainable params: 4,802,593\n",
      "Non-trainable params: 0\n",
      "_________________________________________________________________\n",
      "None\n",
      "9\n"
     ]
    }
   ],
   "source": [
    "img_input = Input(shape=(img_height, img_width, 3))\n",
    "\n",
    "x = Conv2D(96, 11, strides=4, padding='same', use_bias=False)(img_input) # 15\n",
    "x = Activation('relu')(x)\n",
    "\n",
    "x = Conv2D(256, 5, strides=1, padding='same', use_bias=False)(x)\n",
    "x = Activation('relu')(x)\n",
    "\n",
    "x = MaxPooling2D(pool_size=3, strides=2, padding='valid')(x) # 8\n",
    "\n",
    "x = Conv2D(384, 3, strides=1, padding='same', use_bias=False)(x) # 15\n",
    "x = Activation('relu')(x)\n",
    "\n",
    "x = MaxPooling2D(pool_size=3, strides=2, padding='valid')(x) # 8\n",
    "\n",
    "x = Conv2D(384, 3, strides=1, padding='same', use_bias=False)(x) # 15\n",
    "x = Activation('relu')(x)\n",
    "x = Conv2D(256, 3, strides=1, padding='same', use_bias=False)(x)\n",
    "x = Activation('relu')(x)\n",
    "\n",
    "model_out = MaxPooling2D(pool_size=3, strides=2, padding='valid')(x) # 8\n",
    "# Add fully connected layer\n",
    "x = GlobalAveragePooling2D()(model_out)\n",
    "x = Dense(4096, activation=None)(x)\n",
    "x = Activation('relu')(x)\n",
    "x = Dense(1, activation=None)(x)\n",
    "out = Activation('sigmoid')(x)\n",
    "\n",
    "model = Model(img_input, out)\n",
    "print(model.summary())\n",
    "print(len(model.trainable_weights))"
   ]
  },
  {
   "cell_type": "code",
   "execution_count": 5,
   "metadata": {},
   "outputs": [
    {
     "name": "stdout",
     "output_type": "stream",
     "text": [
      "9\n"
     ]
    }
   ],
   "source": [
    "model.compile(optimizer=Adam(lr=learn_rate),\n",
    "              loss='binary_crossentropy',\n",
    "              metrics=['accuracy'])\n",
    "\n",
    "print(len(model.trainable_weights))"
   ]
  },
  {
   "cell_type": "markdown",
   "metadata": {},
   "source": [
    "## Data generator"
   ]
  },
  {
   "cell_type": "code",
   "execution_count": 6,
   "metadata": {
    "collapsed": true
   },
   "outputs": [],
   "source": [
    "def generator(directory, batch_size=32):\n",
    "    folder =  np.sort(os.listdir(directory))\n",
    "    real_img = np.asarray(glob.glob(directory + '/' + folder[0]+'/*.png'))\n",
    "    real_idx = np.arange(len(real_img))\n",
    "    \n",
    "    while 1:\n",
    "        X1 = []\n",
    "        X2 = []\n",
    "        y = []\n",
    "        \n",
    "        if (len(real_idx) < batch_size):\n",
    "            real_idx = np.arange(len(real_img))\n",
    "            continue\n",
    "        \n",
    "        for _ in range(batch_size):\n",
    "            if (len(real_idx) < batch_size):\n",
    "                real_idx = np.arange(len(real_img))\n",
    "                break\n",
    "            random1 = np.random.choice(real_idx, 1, replace=False)\n",
    "            real_idx = real_idx[~np.isin(real_idx, random1)]\n",
    "            random2 = np.random.choice(real_idx, 1, replace=False)\n",
    "            real_idx = real_idx[~np.isin(real_idx, random2)]\n",
    "            X1.append(np.asarray(Image.open(real_img[random1[0]]).convert(\"RGB\"))/255.)\n",
    "            X2.append(np.asarray(Image.open(real_img[random2[0]]).convert(\"RGB\"))/255.)\n",
    "            y.append(np.array([0.]))\n",
    "\n",
    "        X1 = np.asarray(X1)\n",
    "        X2 = np.asarray(X2)\n",
    "        y = np.asarray(y)\n",
    "        yield [X1, X2], y\n",
    "        \n",
    "def generator_res(ft_dir, directory, batch_size=1, critical_value=0.5):\n",
    "    folder = np.sort(os.listdir(directory))\n",
    "    ft_img = np.asarray(glob.glob(ft_dir + '/' + '0' +'/*.png'))\n",
    "    ft_idx = np.arange(len(ft_img))\n",
    "    random1 = np.random.choice(ft_idx, 1, replace=False)\n",
    "    img = np.asarray(Image.open(ft_img[random1[0]]).convert(\"RGB\"))/255.\n",
    "    fake_img = np.asarray(glob.glob(directory + '/' + folder[1] + '/*.png'))\n",
    "    fake_idx = np.arange(len(fake_img))\n",
    "    real_img = np.asarray(glob.glob(directory + '/' + folder[0] + '/*.png'))\n",
    "    real_idx = np.arange(len(real_img))\n",
    "    while 1:\n",
    "        X1 = []\n",
    "        X2 = []\n",
    "        y = []\n",
    "        if (len(fake_idx) < batch_size):\n",
    "            break\n",
    "        if (len(real_idx) < batch_size):\n",
    "            break\n",
    "        for _ in range(batch_size):\n",
    "            if np.random.uniform() > critical_value:\n",
    "                if (len(fake_idx) < batch_size):\n",
    "                    break\n",
    "                random2 = np.random.choice(fake_idx, 1, replace=False)\n",
    "                fake_idx = fake_idx[~np.isin(fake_idx, random2)]\n",
    "                X1.append(img)\n",
    "                X2.append(np.asarray(Image.open(fake_img[random2[0]]).convert(\"RGB\"))/255.)\n",
    "                y.append(np.array([1.]))\n",
    "            else:\n",
    "                if (len(real_idx) < batch_size):\n",
    "                    break\n",
    "                random3 = np.random.choice(real_idx, 1, replace=False)\n",
    "                real_idx = real_idx[~np.isin(real_idx, random3)]\n",
    "                X1.append(img)\n",
    "                X2.append(np.asarray(Image.open(real_img[random3[0]]).convert(\"RGB\"))/255.)\n",
    "                y.append(np.array([0.]))\n",
    "        X1 = np.asarray(X1)\n",
    "        X2 = np.asarray(X2)\n",
    "        y = np.asarray(y)\n",
    "        yield [X1, X2], y"
   ]
  },
  {
   "cell_type": "code",
   "execution_count": 7,
   "metadata": {
    "collapsed": true
   },
   "outputs": [],
   "source": [
    "def manDist(x):\n",
    "    result = K.exp(-K.sum(K.abs(x[0] - x[1]), axis=1, keepdims=True))\n",
    "    return result\n",
    "\n",
    "def euclidean_distance(inputs):\n",
    "    assert len(inputs) == 2, 'Euclidean distance needs 2 inputs, %d given' % len(inputs)\n",
    "    u, v = inputs\n",
    "    return K.sqrt(K.sum((K.square(u - v + 1e-7)), axis=1, keepdims=True))  \n",
    "\n",
    "def contrastive_loss(y_true,y_pred):\n",
    "    margin=1.4\n",
    "    return K.mean((1. - y_true) * K.square(y_pred) + y_true * K.square(K.maximum(margin - y_pred, 0.)))\n",
    "\n",
    "def siamese_acc(y_true, y_pred):\n",
    "    return K.mean((K.equal(y_true, K.cast(y_pred > 0.4, K.floatx()))), axis=1)\n",
    "\n",
    "def y_pred_prt(y_true, y_pred):\n",
    "    return y_pred"
   ]
  },
  {
   "cell_type": "code",
   "execution_count": 46,
   "metadata": {},
   "outputs": [
    {
     "name": "stdout",
     "output_type": "stream",
     "text": [
      "Found 251702 images belonging to 2 classes.\n",
      "Found 28298 images belonging to 2 classes.\n",
      "Found 33086 images belonging to 2 classes.\n",
      "Found 21866 images belonging to 2 classes.\n",
      "Found 17480 images belonging to 2 classes.\n",
      "Found 16723 images belonging to 2 classes.\n"
     ]
    }
   ],
   "source": [
    "train_datagen = ImageDataGenerator(rescale=1./255)\n",
    "validation_datagen = ImageDataGenerator(rescale=1./255)\n",
    "test50_datagen = ImageDataGenerator(rescale=1./255)\n",
    "test75_datagen = ImageDataGenerator(rescale=1./255)\n",
    "test95_datagen = ImageDataGenerator(rescale=1./255)\n",
    "test99_datagen = ImageDataGenerator(rescale=1./255)\n",
    "\n",
    "train_generator = train_datagen.flow_from_directory(train_dir,\n",
    "                                                    target_size=(img_height, img_width),\n",
    "                                                    batch_size=batch_size,\n",
    "                                                    shuffle=True,\n",
    "                                                    class_mode='binary')\n",
    "\n",
    "validation_generator = validation_datagen.flow_from_directory(validation_dir,\n",
    "                                                        target_size=(img_height, img_width),\n",
    "                                                        batch_size=batch_size,\n",
    "                                                        shuffle=True,\n",
    "                                                        class_mode='binary')\n",
    "\n",
    "test50_generator = test50_datagen.flow_from_directory(test50_dir,\n",
    "                                                  target_size=(img_height, img_width),\n",
    "                                                  batch_size=128,\n",
    "                                                  shuffle=True,\n",
    "                                                  class_mode='binary')\n",
    "\n",
    "test75_generator = test75_datagen.flow_from_directory(test75_dir,\n",
    "                                                  target_size=(img_height, img_width),\n",
    "                                                  batch_size=128,\n",
    "                                                  shuffle=True,\n",
    "                                                  class_mode='binary')\n",
    "\n",
    "test95_generator = test95_datagen.flow_from_directory(test95_dir,\n",
    "                                                  target_size=(img_height, img_width),\n",
    "                                                  batch_size=128,\n",
    "                                                  shuffle=True,\n",
    "                                                  class_mode='binary')\n",
    "\n",
    "test99_generator = test99_datagen.flow_from_directory(test99_dir,\n",
    "                                                  target_size=(img_height, img_width),\n",
    "                                                  batch_size=128,\n",
    "                                                  shuffle=True,\n",
    "                                                  class_mode='binary')"
   ]
  },
  {
   "cell_type": "code",
   "execution_count": 75,
   "metadata": {
    "collapsed": true
   },
   "outputs": [],
   "source": [
    "ft_dir = '/home/skkulab/ICCV/Dataset/preprocessed_dataset/fine-tune'\n",
    "train_gen = generator(ft_dir)\n",
    "test50_gen = generator_res(ft_dir, test50_dir, batch_size=1, critical_value=0.5)\n",
    "test75_gen = generator_res(ft_dir, test75_dir, batch_size=1, critical_value=0.75)\n",
    "test95_gen = generator_res(ft_dir, test95_dir, batch_size=1, critical_value=0.95)\n",
    "test99_gen = generator_res(ft_dir, test99_dir, batch_size=1, critical_value=0.988)"
   ]
  },
  {
   "cell_type": "markdown",
   "metadata": {},
   "source": [
    "## Modeling"
   ]
  },
  {
   "cell_type": "code",
   "execution_count": 10,
   "metadata": {},
   "outputs": [
    {
     "name": "stdout",
     "output_type": "stream",
     "text": [
      "WARNING:tensorflow:From /home/skkulab/anaconda3/lib/python3.6/site-packages/tensorflow/python/ops/math_ops.py:3066: to_int32 (from tensorflow.python.ops.math_ops) is deprecated and will be removed in a future version.\n",
      "Instructions for updating:\n",
      "Use tf.cast instead.\n",
      "Epoch 1/20\n",
      "100/100 [==============================] - 136s 1s/step - loss: 0.6408 - acc: 0.6188 - val_loss: 0.4574 - val_acc: 0.9462\n",
      "Epoch 2/20\n",
      "100/100 [==============================] - 119s 1s/step - loss: 0.2337 - acc: 0.9397 - val_loss: 0.1978 - val_acc: 0.9281\n",
      "Epoch 3/20\n",
      "100/100 [==============================] - 118s 1s/step - loss: 0.1343 - acc: 0.9556 - val_loss: 0.1084 - val_acc: 0.9685\n",
      "Epoch 4/20\n",
      "100/100 [==============================] - 117s 1s/step - loss: 0.1168 - acc: 0.9609 - val_loss: 0.1214 - val_acc: 0.9618\n",
      "Epoch 5/20\n",
      "100/100 [==============================] - 116s 1s/step - loss: 0.0880 - acc: 0.9738 - val_loss: 0.0893 - val_acc: 0.9723\n",
      "Epoch 6/20\n",
      "100/100 [==============================] - 116s 1s/step - loss: 0.0967 - acc: 0.9697 - val_loss: 0.0906 - val_acc: 0.9742\n",
      "Epoch 7/20\n",
      "100/100 [==============================] - 116s 1s/step - loss: 0.0924 - acc: 0.9756 - val_loss: 0.0878 - val_acc: 0.9728\n",
      "Epoch 8/20\n",
      "100/100 [==============================] - 116s 1s/step - loss: 0.0903 - acc: 0.9712 - val_loss: 0.0741 - val_acc: 0.9808\n",
      "Epoch 9/20\n",
      "100/100 [==============================] - 114s 1s/step - loss: 0.0598 - acc: 0.9831 - val_loss: 0.0650 - val_acc: 0.9823\n",
      "Epoch 10/20\n",
      "100/100 [==============================] - 115s 1s/step - loss: 0.0768 - acc: 0.9791 - val_loss: 0.0675 - val_acc: 0.9806\n",
      "Epoch 11/20\n",
      "100/100 [==============================] - 115s 1s/step - loss: 0.0864 - acc: 0.9744 - val_loss: 0.0687 - val_acc: 0.9807\n",
      "Epoch 12/20\n",
      "100/100 [==============================] - 113s 1s/step - loss: 0.0632 - acc: 0.9834 - val_loss: 0.0588 - val_acc: 0.9836\n",
      "Epoch 13/20\n",
      "100/100 [==============================] - 114s 1s/step - loss: 0.0614 - acc: 0.9809 - val_loss: 0.0664 - val_acc: 0.9808\n",
      "Epoch 14/20\n",
      "100/100 [==============================] - 115s 1s/step - loss: 0.0648 - acc: 0.9806 - val_loss: 0.0589 - val_acc: 0.9828\n",
      "Epoch 15/20\n",
      "100/100 [==============================] - 114s 1s/step - loss: 0.0576 - acc: 0.9844 - val_loss: 0.0554 - val_acc: 0.9846\n",
      "Epoch 16/20\n",
      "100/100 [==============================] - 115s 1s/step - loss: 0.0628 - acc: 0.9841 - val_loss: 0.0479 - val_acc: 0.9876\n",
      "Epoch 17/20\n",
      "100/100 [==============================] - 115s 1s/step - loss: 0.0537 - acc: 0.9856 - val_loss: 0.0471 - val_acc: 0.9876\n",
      "Epoch 18/20\n",
      "100/100 [==============================] - 118s 1s/step - loss: 0.0637 - acc: 0.9822 - val_loss: 0.0554 - val_acc: 0.9853\n",
      "Epoch 19/20\n",
      "100/100 [==============================] - 122s 1s/step - loss: 0.0556 - acc: 0.9862 - val_loss: 0.0503 - val_acc: 0.9886\n",
      "Epoch 20/20\n",
      "100/100 [==============================] - 121s 1s/step - loss: 0.0532 - acc: 0.9859 - val_loss: 0.0480 - val_acc: 0.9873\n"
     ]
    }
   ],
   "source": [
    "callback_list = [EarlyStopping(monitor='val_acc', patience=5),\n",
    "                 ReduceLROnPlateau(monitor='val_loss', factor=0.1, patience=3)]\n",
    "history = model.fit_generator(train_generator,\n",
    "                            steps_per_epoch=100,\n",
    "                            epochs=20,\n",
    "                            validation_data=validation_generator,\n",
    "                            validation_steps=len(validation_generator),\n",
    "                            callbacks=callback_list,\n",
    "                            verbose=1)"
   ]
  },
  {
   "cell_type": "code",
   "execution_count": 11,
   "metadata": {},
   "outputs": [
    {
     "name": "stdout",
     "output_type": "stream",
     "text": [
      "50%  16543\n",
      "75%  5323\n",
      "95%:  937\n"
     ]
    }
   ],
   "source": [
    "test50_classes = test50_generator.classes\n",
    "print(\"50% \", len(test50_classes[test50_classes == 1]))\n",
    "test75_classes = test75_generator.classes\n",
    "print(\"75% \", len(test75_classes[test75_classes == 1]))\n",
    "test95_classes = test95_generator.classes\n",
    "print(\"95%: \", len(test95_classes[test95_classes == 1]))"
   ]
  },
  {
   "cell_type": "code",
   "execution_count": 12,
   "metadata": {
    "collapsed": true
   },
   "outputs": [],
   "source": [
    "model.save(\"kalexnet.h5\")"
   ]
  },
  {
   "cell_type": "markdown",
   "metadata": {},
   "source": [
    "### Siamese Modeling"
   ]
  },
  {
   "cell_type": "code",
   "execution_count": 10,
   "metadata": {},
   "outputs": [
    {
     "name": "stdout",
     "output_type": "stream",
     "text": [
      "WARNING:tensorflow:From /home/skkulab/anaconda3/lib/python3.6/site-packages/tensorflow/python/ops/math_ops.py:3066: to_int32 (from tensorflow.python.ops.math_ops) is deprecated and will be removed in a future version.\n",
      "Instructions for updating:\n",
      "Use tf.cast instead.\n",
      "_________________________________________________________________\n",
      "Layer (type)                 Output Shape              Param #   \n",
      "=================================================================\n",
      "input_2 (InputLayer)         (None, 224, 224, 3)       0         \n",
      "_________________________________________________________________\n",
      "model_2 (Model)              (None, 1)                 4802593   \n",
      "=================================================================\n",
      "Total params: 4,802,593\n",
      "Trainable params: 4,097\n",
      "Non-trainable params: 4,798,496\n",
      "_________________________________________________________________\n",
      "__________________________________________________________________________________________________\n",
      "Layer (type)                    Output Shape         Param #     Connected to                     \n",
      "==================================================================================================\n",
      "input_3 (InputLayer)            (None, 224, 224, 3)  0                                            \n",
      "__________________________________________________________________________________________________\n",
      "input_4 (InputLayer)            (None, 224, 224, 3)  0                                            \n",
      "__________________________________________________________________________________________________\n",
      "model_3 (Model)                 (None, 1)            4802593     input_3[0][0]                    \n",
      "                                                                 input_4[0][0]                    \n",
      "__________________________________________________________________________________________________\n",
      "lambda_1 (Lambda)               (None, 1)            0           model_3[1][0]                    \n",
      "                                                                 model_3[2][0]                    \n",
      "==================================================================================================\n",
      "Total params: 4,802,593\n",
      "Trainable params: 4,097\n",
      "Non-trainable params: 4,798,496\n",
      "__________________________________________________________________________________________________\n",
      "Epoch 1/10\n",
      "40/40 [==============================] - 17s 431ms/step - loss: 0.1041 - acc: 0.8751\n",
      "Epoch 2/10\n",
      "40/40 [==============================] - 16s 397ms/step - loss: 0.0950 - acc: 0.8816\n",
      "Epoch 3/10\n",
      "40/40 [==============================] - 17s 430ms/step - loss: 0.0931 - acc: 0.8816\n",
      "Epoch 4/10\n",
      "40/40 [==============================] - 17s 429ms/step - loss: 0.0944 - acc: 0.8823\n",
      "Epoch 5/10\n",
      "40/40 [==============================] - 16s 400ms/step - loss: 0.0855 - acc: 0.8910\n",
      "Epoch 6/10\n",
      "40/40 [==============================] - 16s 399ms/step - loss: 0.0888 - acc: 0.8894\n",
      "Epoch 7/10\n",
      "40/40 [==============================] - 16s 403ms/step - loss: 0.0876 - acc: 0.8861\n",
      "Epoch 8/10\n",
      "40/40 [==============================] - 16s 401ms/step - loss: 0.0838 - acc: 0.8934\n",
      "Epoch 9/10\n",
      "40/40 [==============================] - 15s 387ms/step - loss: 0.0863 - acc: 0.8908\n",
      "Epoch 10/10\n",
      "40/40 [==============================] - 16s 405ms/step - loss: 0.0745 - acc: 0.9045\n"
     ]
    }
   ],
   "source": [
    "model = load_model('alexnet.h5')\n",
    "base_model = Model(img_input, out)\n",
    "base_model.set_weights(model.get_weights())\n",
    "for l in range(len(base_model.layers) - 2):\n",
    "    base_model.layers[l].trainable = False   \n",
    "\n",
    "im_in = Input(shape=(224, 224, 3))\n",
    "x1 = base_model([im_in])\n",
    "\n",
    "model_top = Model(inputs=[im_in], outputs=x1)\n",
    "# model_top.load_weights(\"siam_alex.h5\")\n",
    "model_top.summary()\n",
    "\n",
    "left_input = Input(shape=(224, 224, 3))\n",
    "right_input = Input(shape=(224, 224, 3))\n",
    "\n",
    "h1 = model_top(left_input)\n",
    "h2 = model_top(right_input)\n",
    "\n",
    "distance = Lambda(euclidean_distance)([h1, h2])\n",
    "siam_model = Model(inputs=[left_input, right_input], outputs=distance)\n",
    "siam_model.compile(loss='mse', optimizer=SGD(0.001), metrics=['acc'])\n",
    "siam_model.summary()\n",
    "callback_list = [EarlyStopping(monitor='acc', patience=3),\n",
    "                 ReduceLROnPlateau(monitor='loss', factor=0.1, patience=2)]\n",
    "output = siam_model.fit_generator(train_gen, steps_per_epoch=40, epochs=10,callbacks=callback_list)"
   ]
  },
  {
   "cell_type": "code",
   "execution_count": 11,
   "metadata": {
    "collapsed": true
   },
   "outputs": [],
   "source": [
    "## siam model을 통째로 저장할 때 load err: axes doesn't match ##\n",
    "''' model 설정 후, load weight '''\n",
    "model_json = model_top.to_json()\n",
    "with open(\"siam_alex.json\", \"w\") as json_file:\n",
    "    json_file.write(model_json)\n",
    "model_top.save_weights(\"siam_alex1.h5\")"
   ]
  },
  {
   "cell_type": "markdown",
   "metadata": {},
   "source": [
    "## Evaluate Model - 50"
   ]
  },
  {
   "cell_type": "code",
   "execution_count": 12,
   "metadata": {},
   "outputs": [
    {
     "name": "stdout",
     "output_type": "stream",
     "text": [
      "_________________________________________________________________\n",
      "Layer (type)                 Output Shape              Param #   \n",
      "=================================================================\n",
      "input_1 (InputLayer)         (None, 224, 224, 3)       0         \n",
      "_________________________________________________________________\n",
      "conv2d_1 (Conv2D)            (None, 56, 56, 96)        34848     \n",
      "_________________________________________________________________\n",
      "activation_1 (Activation)    (None, 56, 56, 96)        0         \n",
      "_________________________________________________________________\n",
      "conv2d_2 (Conv2D)            (None, 56, 56, 256)       614400    \n",
      "_________________________________________________________________\n",
      "activation_2 (Activation)    (None, 56, 56, 256)       0         \n",
      "_________________________________________________________________\n",
      "max_pooling2d_1 (MaxPooling2 (None, 27, 27, 256)       0         \n",
      "_________________________________________________________________\n",
      "conv2d_3 (Conv2D)            (None, 27, 27, 384)       884736    \n",
      "_________________________________________________________________\n",
      "activation_3 (Activation)    (None, 27, 27, 384)       0         \n",
      "_________________________________________________________________\n",
      "max_pooling2d_2 (MaxPooling2 (None, 13, 13, 384)       0         \n",
      "_________________________________________________________________\n",
      "conv2d_4 (Conv2D)            (None, 13, 13, 384)       1327104   \n",
      "_________________________________________________________________\n",
      "activation_4 (Activation)    (None, 13, 13, 384)       0         \n",
      "_________________________________________________________________\n",
      "conv2d_5 (Conv2D)            (None, 13, 13, 256)       884736    \n",
      "_________________________________________________________________\n",
      "activation_5 (Activation)    (None, 13, 13, 256)       0         \n",
      "_________________________________________________________________\n",
      "max_pooling2d_3 (MaxPooling2 (None, 6, 6, 256)         0         \n",
      "_________________________________________________________________\n",
      "global_average_pooling2d_1 ( (None, 256)               0         \n",
      "_________________________________________________________________\n",
      "dense_1 (Dense)              (None, 4096)              1052672   \n",
      "_________________________________________________________________\n",
      "activation_6 (Activation)    (None, 4096)              0         \n",
      "_________________________________________________________________\n",
      "dense_2 (Dense)              (None, 1)                 4097      \n",
      "_________________________________________________________________\n",
      "activation_7 (Activation)    (None, 1)                 0         \n",
      "=================================================================\n",
      "Total params: 4,802,593\n",
      "Trainable params: 4,802,593\n",
      "Non-trainable params: 0\n",
      "_________________________________________________________________\n"
     ]
    }
   ],
   "source": [
    "model_1 = load_model(\"alexnet.h5\")\n",
    "model_1.summary()"
   ]
  },
  {
   "cell_type": "code",
   "execution_count": 13,
   "metadata": {
    "scrolled": true
   },
   "outputs": [
    {
     "name": "stderr",
     "output_type": "stream",
     "text": [
      "100%|██████████| 259/259 [05:53<00:00,  1.11s/it]\n"
     ]
    }
   ],
   "source": [
    "score50_1 = []\n",
    "answer50_1 = []\n",
    "for i in trange(len(test50_generator)):\n",
    "    y_score50_1 = model_1.predict_on_batch(test50_generator[i][0])\n",
    "    score50_1.append(y_score50_1)\n",
    "    answer50_1.append(test50_generator[i][1])\n",
    "\n",
    "score50_1 = np.concatenate(score50_1)\n",
    "answer50_1 = np.concatenate(answer50_1)\n",
    "\n",
    "y_hat50_1 = score50_1.copy()\n",
    "y_hat50_1[y_hat50_1 >= 0.5] = 1.\n",
    "y_hat50_1[y_hat50_1 < 0.5] = 0.\n",
    "\n",
    "cm50_1 = confusion_matrix(answer50_1, y_hat50_1)\n",
    "recall50_1 = cm50_1[0][0] / (cm50_1[0][0] + cm50_1[0][1])\n",
    "fallout50_1 = cm50_1[1][0] / (cm50_1[1][0] + cm50_1[1][1])\n",
    "fpr50_1, tpr50_1, thresholds50_1 = roc_curve(answer50_1, score50_1, pos_label=1.)\n",
    "eer50_1 = brentq(lambda x : 1. - x - interp1d(fpr50_1, tpr50_1)(x), 0., 1.)\n",
    "thresh50_1 = interp1d(fpr50_1, thresholds50_1)(eer50_1)"
   ]
  },
  {
   "cell_type": "code",
   "execution_count": 37,
   "metadata": {},
   "outputs": [
    {
     "name": "stdout",
     "output_type": "stream",
     "text": [
      "              precision    recall  f1-score   support\n",
      "\n",
      "         0.0       1.00      0.96      0.98     16543\n",
      "         1.0       0.96      1.00      0.98     16543\n",
      "\n",
      "    accuracy                           0.98     33086\n",
      "   macro avg       0.98      0.98      0.98     33086\n",
      "weighted avg       0.98      0.98      0.98     33086\n",
      "\n",
      "[[15917   626]\n",
      " [    0 16543]]\n",
      "FPR=FAR 0.0\n",
      "FNR=FRR 0.0378407785770416\n",
      "test_acc:  0.9810796107114792\n",
      "thresh: 0.934641599656215\n",
      "eer: 0.01348002176132881\n",
      "aou_roc:  0.9931602141520013\n",
      "[[15917   626]\n",
      " [    0 16543]]\n"
     ]
    }
   ],
   "source": [
    "print(metrics.classification_report(answer50_1, y_hat50_1))\n",
    "print(confusion_matrix(answer50_1, y_hat50_1))\n",
    "print(\"FPR=FAR\", fallout50_1)\n",
    "print(\"FNR=FRR\", 1-recall50_1)\n",
    "print('test_acc: ', len(y_hat50_1[np.equal(y_hat50_1.reshape(-1), answer50_1)]) / len(y_hat50_1))\n",
    "print('thresh:', thresh50_1)\n",
    "print('eer:', eer50_1)\n",
    "print('aou_roc: ', roc_auc_score(answer50_1, score50_1))\n",
    "print(cm50_1)"
   ]
  },
  {
   "cell_type": "code",
   "execution_count": 15,
   "metadata": {
    "scrolled": true
   },
   "outputs": [
    {
     "name": "stderr",
     "output_type": "stream",
     "text": [
      "33017it [06:03, 90.74it/s] \n"
     ]
    }
   ],
   "source": [
    "score50_2 = []\n",
    "answer50_2 = []\n",
    "for i in tqdm(test50_gen):\n",
    "    y_score50_2 = siam_model.predict_on_batch(i[0])\n",
    "    score50_2.append(y_score50_2)\n",
    "    answer50_2.append(i[1])\n",
    "    \n",
    "score50_2 = np.concatenate(score50_2)\n",
    "answer50_2 = np.concatenate(answer50_2)"
   ]
  },
  {
   "cell_type": "code",
   "execution_count": 16,
   "metadata": {
    "collapsed": true
   },
   "outputs": [],
   "source": [
    "y_hat50_2 = score50_2.copy()\n",
    "y_hat50_2[y_hat50_2 >= 0.9] = 1.\n",
    "y_hat50_2[y_hat50_2 < 0.9] = 0.\n",
    "\n",
    "cm50_2 = confusion_matrix(answer50_2, y_hat50_2)\n",
    "recall50_2 = cm50_2[0][0] / (cm50_2[0][0] + cm50_2[0][1])\n",
    "fallout50_2 = cm50_2[1][0] / (cm50_2[1][0] + cm50_2[1][1])\n",
    "fpr50_2, tpr50_2, thresholds50_2 = roc_curve(answer50_2, score50_2, pos_label=1.)\n",
    "eer50_2 = brentq(lambda x : 1. - x - interp1d(fpr50_2, tpr50_2)(x), 0., 1.)\n",
    "thresh50_2 = interp1d(fpr50_2, thresholds50_2)(eer50_2)"
   ]
  },
  {
   "cell_type": "code",
   "execution_count": 38,
   "metadata": {},
   "outputs": [
    {
     "name": "stdout",
     "output_type": "stream",
     "text": [
      "              precision    recall  f1-score   support\n",
      "\n",
      "         0.0       0.98      0.99      0.98     16474\n",
      "         1.0       0.99      0.98      0.98     16543\n",
      "\n",
      "    accuracy                           0.98     33017\n",
      "   macro avg       0.98      0.98      0.98     33017\n",
      "weighted avg       0.98      0.98      0.98     33017\n",
      "\n",
      "[[16283   191]\n",
      " [  321 16222]]\n",
      "FPR=FAR 0.019403977513147555\n",
      "FNR=FRR 0.011594026951560088\n",
      "test_acc:  0.9844928370233516\n",
      "thresh: 0.8894331832312993\n",
      "eer: 0.0120890314470861\n",
      "aou_roc:  0.994327679501361\n",
      "[[16283   191]\n",
      " [  321 16222]]\n"
     ]
    }
   ],
   "source": [
    "print(metrics.classification_report(answer50_2, y_hat50_2))\n",
    "print(confusion_matrix(answer50_2, y_hat50_2))\n",
    "print(\"FPR=FAR\", fallout50_2)\n",
    "print(\"FNR=FRR\", 1-recall50_2)\n",
    "print('test_acc: ', len(y_hat50_2[np.equal(y_hat50_2, answer50_2)]) / len(y_hat50_2))\n",
    "print('thresh:', thresh50_2)\n",
    "print('eer:', eer50_2)\n",
    "print('aou_roc: ', roc_auc_score(answer50_2, score50_2))\n",
    "print(cm50_2)"
   ]
  },
  {
   "cell_type": "markdown",
   "metadata": {},
   "source": [
    "## Evaluate Model - 75"
   ]
  },
  {
   "cell_type": "code",
   "execution_count": 18,
   "metadata": {
    "scrolled": true
   },
   "outputs": [
    {
     "name": "stderr",
     "output_type": "stream",
     "text": [
      "100%|██████████| 171/171 [03:21<00:00,  1.22s/it]\n"
     ]
    }
   ],
   "source": [
    "score75_1 = []\n",
    "answer75_1 = []\n",
    "for i in trange(len(test75_generator)):\n",
    "    y_score75_1 = model_1.predict_on_batch(test75_generator[i][0])\n",
    "    score75_1.append(y_score75_1)\n",
    "    answer75_1.append(test75_generator[i][1])\n",
    "\n",
    "score75_1 = np.concatenate(score75_1)\n",
    "answer75_1 = np.concatenate(answer75_1)\n",
    "\n",
    "y_hat75_1 = score75_1.copy()\n",
    "y_hat75_1[y_hat75_1 >= 0.5] = 1.\n",
    "y_hat75_1[y_hat75_1 < 0.5] = 0.\n",
    "\n",
    "cm75_1 = confusion_matrix(answer75_1, y_hat75_1)\n",
    "recall75_1 = cm75_1[0][0] / (cm75_1[0][0] + cm75_1[0][1])\n",
    "fallout75_1 = cm75_1[1][0] / (cm75_1[1][0] + cm75_1[1][1])\n",
    "fpr75_1, tpr75_1, thresholds75_1 = roc_curve(answer75_1, score75_1, pos_label=1.)\n",
    "eer75_1 = brentq(lambda x : 1. - x - interp1d(fpr75_1, tpr75_1)(x), 0., 1.)\n",
    "thresh75_1 = interp1d(fpr75_1, thresholds75_1)(eer75_1)"
   ]
  },
  {
   "cell_type": "code",
   "execution_count": 39,
   "metadata": {},
   "outputs": [
    {
     "name": "stdout",
     "output_type": "stream",
     "text": [
      "              precision    recall  f1-score   support\n",
      "\n",
      "         0.0       1.00      0.96      0.98     16543\n",
      "         1.0       0.89      1.00      0.94      5323\n",
      "\n",
      "    accuracy                           0.97     21866\n",
      "   macro avg       0.95      0.98      0.96     21866\n",
      "weighted avg       0.97      0.97      0.97     21866\n",
      "\n",
      "[[15917   626]\n",
      " [    0  5323]]\n",
      "FPR=FAR 0.0\n",
      "FNR=FRR 0.0378407785770416\n",
      "test_acc:  0.9713710783865361\n",
      "thresh: 0.9339713650000188\n",
      "eer: 0.013445484242586835\n",
      "aou_roc:  0.9931584996405055\n",
      "[[15917   626]\n",
      " [    0  5323]]\n"
     ]
    }
   ],
   "source": [
    "print(metrics.classification_report(answer75_1, y_hat75_1))\n",
    "print(confusion_matrix(answer75_1, y_hat75_1))\n",
    "print(\"FPR=FAR\", fallout75_1)\n",
    "print(\"FNR=FRR\", 1-recall75_1)\n",
    "print('test_acc: ', len(y_hat75_1[np.equal(y_hat75_1.reshape(-1), answer75_1)]) / len(y_hat75_1))\n",
    "print('thresh:', thresh75_1)\n",
    "print('eer:', eer75_1)\n",
    "print('aou_roc: ', roc_auc_score(answer75_1, score75_1))\n",
    "print(cm75_1)"
   ]
  },
  {
   "cell_type": "code",
   "execution_count": 20,
   "metadata": {},
   "outputs": [
    {
     "name": "stderr",
     "output_type": "stream",
     "text": [
      "21404it [03:56, 90.36it/s]\n"
     ]
    }
   ],
   "source": [
    "score75_2 = []\n",
    "answer75_2 = []\n",
    "j = 0\n",
    "for i in tqdm(test75_gen):\n",
    "    y_score75_2 = siam_model.predict_on_batch(i[0])\n",
    "    score75_2.append(y_score75_2)\n",
    "    answer75_2.append(i[1])\n",
    "    j += 1\n",
    "    \n",
    "score75_2 = np.concatenate(score75_2)\n",
    "answer75_2 = np.concatenate(answer75_2)"
   ]
  },
  {
   "cell_type": "code",
   "execution_count": 21,
   "metadata": {
    "collapsed": true
   },
   "outputs": [],
   "source": [
    "y_hat75_2 = score75_2.copy()\n",
    "y_hat75_2[y_hat75_2 >= 0.9] = 1.\n",
    "y_hat75_2[y_hat75_2 < 0.9] = 0.\n",
    "\n",
    "cm75_2 = confusion_matrix(answer75_2, y_hat75_2)\n",
    "recall75_2 = cm75_2[0][0] / (cm75_2[0][0] + cm75_2[0][1])\n",
    "fallout75_2 = cm75_2[1][0] / (cm75_2[1][0] + cm75_2[1][1])\n",
    "fpr75_2, tpr75_2, thresholds75_2 = roc_curve(answer75_2, score75_2, pos_label=1.)\n",
    "eer75_2 = brentq(lambda x : 1. - x - interp1d(fpr75_2, tpr75_2)(x), 0., 1.)\n",
    "thresh75_2 = interp1d(fpr75_2, thresholds75_2)(eer75_2)"
   ]
  },
  {
   "cell_type": "code",
   "execution_count": 40,
   "metadata": {},
   "outputs": [
    {
     "name": "stdout",
     "output_type": "stream",
     "text": [
      "              precision    recall  f1-score   support\n",
      "\n",
      "         0.0       0.99      0.99      0.99     16081\n",
      "         1.0       0.97      0.98      0.97      5323\n",
      "\n",
      "    accuracy                           0.99     21404\n",
      "   macro avg       0.98      0.98      0.98     21404\n",
      "weighted avg       0.99      0.99      0.99     21404\n",
      "\n",
      "[[15894   187]\n",
      " [  102  5221]]\n",
      "FPR=FAR 0.01916212662032688\n",
      "FNR=FRR 0.011628630060319667\n",
      "test_acc:  0.9864978508689964\n",
      "thresh: 0.8885724049251125\n",
      "eer: 0.012211159120870499\n",
      "aou_roc:  0.9942520699647495\n",
      "[[15894   187]\n",
      " [  102  5221]]\n"
     ]
    }
   ],
   "source": [
    "print(metrics.classification_report(answer75_2, y_hat75_2))\n",
    "print(confusion_matrix(answer75_2, y_hat75_2))\n",
    "print(\"FPR=FAR\", fallout75_2)\n",
    "print(\"FNR=FRR\", 1-recall75_2)\n",
    "print('test_acc: ', len(y_hat75_2[np.equal(y_hat75_2, answer75_2)]) / len(y_hat75_2))\n",
    "print('thresh:', thresh75_2)\n",
    "print('eer:', eer75_2)\n",
    "print('aou_roc: ', roc_auc_score(answer75_2, score75_2))\n",
    "print(cm75_2)"
   ]
  },
  {
   "cell_type": "markdown",
   "metadata": {},
   "source": [
    "## Evaluate Model - 95"
   ]
  },
  {
   "cell_type": "code",
   "execution_count": null,
   "metadata": {
    "collapsed": true
   },
   "outputs": [],
   "source": [
    "score95_1 = []\n",
    "answer95_1 = []\n",
    "for i in trange(len(test95_generator)):\n",
    "    y_score95_1 = model_1.predict_on_batch(test95_generator[i][0])\n",
    "    score95_1.append(y_score95_1)\n",
    "    answer95_1.append(test95_generator[i][1])\n",
    "\n",
    "score95_1 = np.concatenate(score95_1)\n",
    "answer95_1 = np.concatenate(answer95_1)\n",
    "\n",
    "y_hat95_1 = score95_1.copy()\n",
    "y_hat95_1[y_hat95_1 >= 0.5] = 1.\n",
    "y_hat95_1[y_hat95_1 < 0.5] = 0.\n",
    "\n",
    "cm95_1 = confusion_matrix(answer95_1, y_hat95_1)\n",
    "recall95_1 = cm95_1[0][0] / (cm95_1[0][0] + cm95_1[0][1])\n",
    "fallout95_1 = cm95_1[1][0] / (cm95_1[1][0] + cm95_1[1][1])\n",
    "fpr95_1, tpr95_1, thresholds95_1 = roc_curve(answer95_1, score95_1, pos_label=1.)\n",
    "eer95_1 = brentq(lambda x : 1. - x - interp1d(fpr95_1, tpr95_1)(x), 0., 1.)\n",
    "thresh95_1 = interp1d(fpr95_1, thresholds95_1)(eer95_1)"
   ]
  },
  {
   "cell_type": "code",
   "execution_count": null,
   "metadata": {
    "collapsed": true
   },
   "outputs": [],
   "source": [
    "print(metrics.classification_report(answer95_1, y_hat95_1))\n",
    "print(confusion_matrix(answer95_1, y_hat95_1))\n",
    "print(\"FPR=FAR\", fallout95_1)\n",
    "print(\"FNR=FRR\", 1-recall95_1)\n",
    "print('test_acc: ', len(y_hat95_1[np.equal(y_hat95_1.reshape(-1), answer95_1)]) / len(y_hat95_1))\n",
    "print('thresh:', thresh95_1)\n",
    "print('eer:', eer95_1)\n",
    "print('aou_roc: ', roc_auc_score(answer95_1, score95_1))\n",
    "print(cm95_1)"
   ]
  },
  {
   "cell_type": "code",
   "execution_count": null,
   "metadata": {
    "collapsed": true
   },
   "outputs": [],
   "source": [
    "score95_2 = []\n",
    "answer95_2 = []\n",
    "j = 0\n",
    "for i in tqdm(test95_gen):\n",
    "    y_score95_2 = siam_model.predict_on_batch(i[0])\n",
    "    score95_2.append(y_score95_2)\n",
    "    answer95_2.append(i[1])\n",
    "    j += 1\n",
    "    \n",
    "score95_2 = np.concatenate(score95_2)\n",
    "answer95_2 = np.concatenate(answer95_2)"
   ]
  },
  {
   "cell_type": "code",
   "execution_count": null,
   "metadata": {
    "collapsed": true
   },
   "outputs": [],
   "source": [
    "y_hat95_2 = score95_2.copy()\n",
    "y_hat95_2[y_hat95_2 >= 0.9] = 1.\n",
    "y_hat95_2[y_hat95_2 < 0.9] = 0.\n",
    "\n",
    "cm95_2 = confusion_matrix(answer95_2, y_hat95_2)\n",
    "recall95_2 = cm95_2[0][0] / (cm95_2[0][0] + cm95_2[0][1])\n",
    "fallout95_2 = cm95_2[1][0] / (cm95_2[1][0] + cm95_2[1][1])\n",
    "fpr95_2, tpr95_2, thresholds95_2 = roc_curve(answer95_2, score95_2, pos_label=1.)\n",
    "eer95_2 = brentq(lambda x : 1. - x - interp1d(fpr95_2, tpr95_2)(x), 0., 1.)\n",
    "thresh95_2 = interp1d(fpr95_2, thresholds95_2)(eer95_2)"
   ]
  },
  {
   "cell_type": "code",
   "execution_count": null,
   "metadata": {
    "collapsed": true
   },
   "outputs": [],
   "source": [
    "print(metrics.classification_report(answer95_2, y_hat95_2))\n",
    "print(confusion_matrix(answer95_2, y_hat95_2))\n",
    "print(\"FPR=FAR\", fallout95_2)\n",
    "print(\"FNR=FRR\", 1-recall95_2)\n",
    "print('test_acc: ', len(y_hat95_2[np.equal(y_hat95_2, answer95_2)]) / len(y_hat95_2))\n",
    "print('thresh:', thresh95_2)\n",
    "print('eer:', eer95_2)\n",
    "print('aou_roc: ', roc_auc_score(answer95_2, score95_2))\n",
    "print(cm95_2)"
   ]
  },
  {
   "cell_type": "markdown",
   "metadata": {},
   "source": [
    "## Evaluate Model - 99"
   ]
  },
  {
   "cell_type": "code",
   "execution_count": 48,
   "metadata": {},
   "outputs": [
    {
     "name": "stderr",
     "output_type": "stream",
     "text": [
      "100%|██████████| 131/131 [04:23<00:00,  1.76s/it]\n"
     ]
    }
   ],
   "source": [
    "score99_1 = []\n",
    "answer99_1 = []\n",
    "for i in trange(len(test99_generator)):\n",
    "    y_score99_1 = model_1.predict_on_batch(test99_generator[i][0])\n",
    "    score99_1.append(y_score99_1)\n",
    "    answer99_1.append(test99_generator[i][1])\n",
    "\n",
    "score99_1 = np.concatenate(score99_1)\n",
    "answer99_1 = np.concatenate(answer99_1)\n",
    "\n",
    "y_hat99_1 = score99_1.copy()\n",
    "y_hat99_1[y_hat99_1 >= 0.5] = 1.\n",
    "y_hat99_1[y_hat99_1 < 0.5] = 0.\n",
    "\n",
    "cm99_1 = confusion_matrix(answer99_1, y_hat99_1)\n",
    "recall99_1 = cm99_1[0][0] / (cm99_1[0][0] + cm99_1[0][1])\n",
    "fallout99_1 = cm99_1[1][0] / (cm99_1[1][0] + cm99_1[1][1])\n",
    "fpr99_1, tpr99_1, thresholds99_1 = roc_curve(answer99_1, score99_1, pos_label=1.)\n",
    "eer99_1 = brentq(lambda x : 1. - x - interp1d(fpr99_1, tpr99_1)(x), 0., 1.)\n",
    "thresh99_1 = interp1d(fpr99_1, thresholds99_1)(eer99_1)"
   ]
  },
  {
   "cell_type": "code",
   "execution_count": 49,
   "metadata": {},
   "outputs": [
    {
     "name": "stdout",
     "output_type": "stream",
     "text": [
      "              precision    recall  f1-score   support\n",
      "\n",
      "         0.0       1.00      0.96      0.98     16543\n",
      "         1.0       0.22      1.00      0.37       180\n",
      "\n",
      "    accuracy                           0.96     16723\n",
      "   macro avg       0.61      0.98      0.67     16723\n",
      "weighted avg       0.99      0.96      0.97     16723\n",
      "\n",
      "[[15917   626]\n",
      " [    0   180]]\n",
      "FPR=FAR 0.0\n",
      "FNR=FRR 0.0378407785770416\n",
      "test_acc:  0.9625665251450098\n",
      "thresh: 0.9444412347452743\n",
      "eer: 0.012482991184996746\n",
      "aou_roc:  0.9928647229106639\n",
      "[[15917   626]\n",
      " [    0   180]]\n"
     ]
    }
   ],
   "source": [
    "print(metrics.classification_report(answer99_1, y_hat99_1))\n",
    "print(confusion_matrix(answer99_1, y_hat99_1))\n",
    "print(\"FPR=FAR\", fallout99_1)\n",
    "print(\"FNR=FRR\", 1-recall99_1)\n",
    "print('test_acc: ', len(y_hat99_1[np.equal(y_hat99_1.reshape(-1), answer99_1)]) / len(y_hat99_1))\n",
    "print('thresh:', thresh99_1)\n",
    "print('eer:', eer99_1)\n",
    "print('aou_roc: ', roc_auc_score(answer99_1, score99_1))\n",
    "print(cm99_1)"
   ]
  },
  {
   "cell_type": "code",
   "execution_count": 76,
   "metadata": {},
   "outputs": [
    {
     "name": "stderr",
     "output_type": "stream",
     "text": [
      "14608it [02:33, 94.90it/s] \n"
     ]
    }
   ],
   "source": [
    "score99_2 = []\n",
    "answer99_2 = []\n",
    "j = 0\n",
    "for i in tqdm(test99_gen):\n",
    "    y_score99_2 = siam_model.predict_on_batch(i[0])\n",
    "    score99_2.append(y_score99_2)\n",
    "    answer99_2.append(i[1])\n",
    "    j += 1\n",
    "    \n",
    "score99_2 = np.concatenate(score99_2)\n",
    "answer99_2 = np.concatenate(answer99_2)"
   ]
  },
  {
   "cell_type": "code",
   "execution_count": 77,
   "metadata": {
    "collapsed": true
   },
   "outputs": [],
   "source": [
    "y_hat99_2 = score99_2.copy()\n",
    "y_hat99_2[y_hat99_2 >= 0.9] = 1.\n",
    "y_hat99_2[y_hat99_2 < 0.9] = 0.\n",
    "\n",
    "cm99_2 = confusion_matrix(answer99_2, y_hat99_2)\n",
    "recall99_2 = cm99_2[0][0] / (cm99_2[0][0] + cm99_2[0][1])\n",
    "fallout99_2 = cm99_2[1][0] / (cm99_2[1][0] + cm99_2[1][1])\n",
    "fpr99_2, tpr99_2, thresholds99_2 = roc_curve(answer99_2, score99_2, pos_label=1.)\n",
    "eer99_2 = brentq(lambda x : 1. - x - interp1d(fpr99_2, tpr99_2)(x), 0., 1.)\n",
    "thresh99_2 = interp1d(fpr99_2, thresholds99_2)(eer99_2)"
   ]
  },
  {
   "cell_type": "code",
   "execution_count": 78,
   "metadata": {
    "scrolled": true
   },
   "outputs": [
    {
     "name": "stdout",
     "output_type": "stream",
     "text": [
      "              precision    recall  f1-score   support\n",
      "\n",
      "         0.0       1.00      0.99      0.99     14428\n",
      "         1.0       0.52      0.99      0.68       180\n",
      "\n",
      "    accuracy                           0.99     14608\n",
      "   macro avg       0.76      0.99      0.84     14608\n",
      "weighted avg       0.99      0.99      0.99     14608\n",
      "\n",
      "[[14261   167]\n",
      " [    2   178]]\n",
      "FPR=FAR 0.011111111111111112\n",
      "FNR=FRR 0.011574715830329874\n",
      "test_acc:  0.9884309967141293\n",
      "thresh: 0.9019187092631807\n",
      "eer: 0.011436096479879289\n",
      "aou_roc:  0.9939889258540493\n",
      "[[14261   167]\n",
      " [    2   178]]\n"
     ]
    }
   ],
   "source": [
    "print(metrics.classification_report(answer99_2, y_hat99_2))\n",
    "print(confusion_matrix(answer99_2, y_hat99_2))\n",
    "print(\"FPR=FAR\", fallout99_2)\n",
    "print(\"FNR=FRR\", 1-recall99_2)\n",
    "print('test_acc: ', len(y_hat99_2[np.equal(y_hat99_2, answer99_2)]) / len(y_hat99_2))\n",
    "print('thresh:', thresh99_2)\n",
    "print('eer:', eer99_2)\n",
    "print('aou_roc: ', roc_auc_score(answer99_2, score99_2))\n",
    "print(cm99_2)"
   ]
  },
  {
   "cell_type": "markdown",
   "metadata": {},
   "source": [
    "## Plotting"
   ]
  },
  {
   "cell_type": "code",
   "execution_count": 44,
   "metadata": {},
   "outputs": [
    {
     "data": {
      "image/png": "[encoded data removed]",
      "text/plain": [
       "<Figure size 360x288 with 1 Axes>"
      ]
     },
     "metadata": {},
     "output_type": "display_data"
    }
   ],
   "source": [
    "plt.figure(figsize=(5,4))\n",
    "plt.plot(fpr50_1, tpr50_1, 'b--', label=\"AlexNet (50%)\")\n",
    "plt.plot(fpr50_2, tpr50_2, 'r--', label=\"Siamese(Ours) (50%)\")\n",
    "plt.plot(fpr75_1, tpr75_1, 'b-.', label=\"AlexNet (75%)\")\n",
    "plt.plot(fpr75_2, tpr75_2, 'r-.', label=\"Siamese(Ours) (75%)\")\n",
    "plt.plot(fpr95_1, tpr95_1, 'b:', label=\"AlexNet (95%)\")\n",
    "plt.plot(fpr95_2, tpr95_2, 'r:', label=\"Siamese(Ours) (95%)\")\n",
    "plt.plot([0, 1], [0, 1], 'k--', label=\"random guess\")\n",
    "plt.plot([fallout50_1], [recall50_1], 'bo', ms=10)\n",
    "plt.plot([fallout50_2], [recall50_2], 'ro', ms=10)\n",
    "plt.plot([fallout75_1], [recall75_1], 'bo', ms=10)\n",
    "plt.plot([fallout75_2], [recall75_2], 'ro', ms=10)\n",
    "plt.plot([fallout95_1], [recall95_1], 'bo', ms=10)\n",
    "plt.plot([fallout95_2], [recall95_2], 'ro', ms=10)\n",
    "plt.xlabel('False Positive Rate (Fall-Out)')\n",
    "plt.ylabel('True Positive Rate (Recall)')\n",
    "# plt.title(\"Best AUROC: %.3f / Model: Ours\" %(roc_auc_score(answer50_2, score)))\n",
    "plt.legend(loc='lower right')\n",
    "plt.annotate(\"%.3f: AlexNet\" %(roc_auc_score(answer95_1, score95_1)), xy=(0.88, 0.85), xytext=(0.75, 0.70), arrowprops={'color':'blue'})\n",
    "plt.annotate(\"%.3f: Ours\" %(roc_auc_score(answer95_2, score95_2)), xy=(0.0, 0.99), xytext=(0.15, 0.9), arrowprops={'color':'red'})\n",
    "plt.show()"
   ]
  },
  {
   "cell_type": "code",
   "execution_count": null,
   "metadata": {
    "collapsed": true
   },
   "outputs": [],
   "source": []
  },
  {
   "cell_type": "code",
   "execution_count": null,
   "metadata": {
    "collapsed": true
   },
   "outputs": [],
   "source": []
  },
  {
   "cell_type": "code",
   "execution_count": null,
   "metadata": {
    "collapsed": true
   },
   "outputs": [],
   "source": []
  }
 ],
 "metadata": {
  "kernelspec": {
   "display_name": "Python 3",
   "language": "python",
   "name": "python3"
  },
  "language_info": {
   "codemirror_mode": {
    "name": "ipython",
    "version": 3
   },
   "file_extension": ".py",
   "mimetype": "text/x-python",
   "name": "python",
   "nbconvert_exporter": "python",
   "pygments_lexer": "ipython3",
   "version": "3.6.3"
  }
 },
 "nbformat": 4,
 "nbformat_minor": 2
}
